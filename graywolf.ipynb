{
 "cells": [
  {
   "cell_type": "markdown",
   "metadata": {},
   "source": [
    "AIM:\n",
    "    To minimize sphere function using graywolf optimization algorithm"
   ]
  },
  {
   "cell_type": "code",
   "execution_count": 7,
   "metadata": {},
   "outputs": [],
   "source": [
    "import random\n",
    "import copy"
   ]
  },
  {
   "cell_type": "code",
   "execution_count": 8,
   "metadata": {},
   "outputs": [],
   "source": [
    "#Sphere function\n",
    "def fitness_sphere(position):\n",
    "    fitness_value = 0.0\n",
    "    for i in range(len(position)):\n",
    "        xi = position[i]\n",
    "        fitness_value += (xi*xi)\n",
    "    return fitness_value"
   ]
  },
  {
   "cell_type": "code",
   "execution_count": 9,
   "metadata": {},
   "outputs": [],
   "source": [
    "# wolf class\n",
    "class wolf:\n",
    "    def __init__(self, fitness, dim, minx, maxx, seed):\n",
    "        self.rnd = random.Random(seed)\n",
    "        self.position = [0.0 for i in range(dim)]\n",
    "\n",
    "        for i in range(dim):\n",
    "            self.position[i] = ((maxx - minx) * self.rnd.random() + minx)\n",
    "            self.fitness = fitness(self.position) # curr fitness"
   ]
  },
  {
   "cell_type": "code",
   "execution_count": 17,
   "metadata": {},
   "outputs": [],
   "source": [
    "# grey wolf optimization (GWO)\n",
    "def gwo(fitness, max_iter, n, dim, minx, maxx):\n",
    "\trnd = random.Random(0)\n",
    "\n",
    "\t# create n random wolves\n",
    "\tpopulation = [ wolf(fitness, dim, minx, maxx, i) for i in range(n)]\n",
    "\n",
    "\t# On the basis of fitness values of wolves, sort the population in asc order\n",
    "\tpopulation = sorted(population, key = lambda temp: temp.fitness)\n",
    "\n",
    "\t# best 3 solutions will be called as alpha, beta and gaama\n",
    "\talpha_wolf, beta_wolf, gamma_wolf = copy.copy(population[: 3])\n",
    "\n",
    "\n",
    "\t# main loop of gwo\n",
    "\tIter = 0\n",
    "\twhile Iter < max_iter:\n",
    "\n",
    "\t\t# after every 10 iterations print iteration number and best fitness value so far\n",
    "\t\tif Iter % 10 == 0 and Iter > 1:\n",
    "\t\t\tprint(\"Iter = \" + str(Iter) + \" best fitness = %.3f\" % alpha_wolf.fitness + \" Best position = \" + str([\"%.6f\"%alpha_wolf.position[k] for k in range(dim)]))\n",
    "\n",
    "\t\t# linearly decreased from 2 to 0\n",
    "\t\ta = 2*(1 - Iter/max_iter)\n",
    "\n",
    "\t\t# updating each population member with the help of best three members\n",
    "\t\tfor i in range(n):\n",
    "\t\t\tA1, A2, A3 = a * (2 * rnd.random() - 1), a * (2 * rnd.random() - 1), a * (2 * rnd.random() - 1)\n",
    "\t\t\tC1, C2, C3 = 2 * rnd.random(), 2*rnd.random(), 2*rnd.random()\n",
    "\n",
    "\t\t\tX1 = [0.0 for i in range(dim)]\n",
    "\t\t\tX2 = [0.0 for i in range(dim)]\n",
    "\t\t\tX3 = [0.0 for i in range(dim)]\n",
    "\t\t\tXnew = [0.0 for i in range(dim)]\n",
    "\t\t\tfor j in range(dim):\n",
    "\t\t\t\tX1[j] = alpha_wolf.position[j] - A1 * abs(C1 * alpha_wolf.position[j] - population[i].position[j])\n",
    "\t\t\t\tX2[j] = beta_wolf.position[j] - A2 * abs(C2 * beta_wolf.position[j] - population[i].position[j])\n",
    "\t\t\t\tX3[j] = gamma_wolf.position[j] - A3 * abs(C3 * gamma_wolf.position[j] - population[i].position[j])\n",
    "\t\t\t\tXnew[j]+= X1[j] + X2[j] + X3[j]\n",
    "\t\t\t\n",
    "\t\t\tfor j in range(dim):\n",
    "\t\t\t\tXnew[j]/=3.0\n",
    "\t\t\t\n",
    "\t\t\t# fitness calculation of new solution\n",
    "\t\t\tfnew = fitness(Xnew)\n",
    "\n",
    "\t\t\t# greedy selection\n",
    "\t\t\tif fnew < population[i].fitness:\n",
    "\t\t\t\tpopulation[i].position = Xnew\n",
    "\t\t\t\tpopulation[i].fitness = fnew\n",
    "\t\t\t\t\n",
    "\t\tpopulation = sorted(population, key = lambda temp: temp.fitness)\n",
    "\n",
    "\t\talpha_wolf, beta_wolf, gamma_wolf = copy.copy(population[: 3])\n",
    "\t\t\n",
    "\t\tIter+= 1\n",
    "\n",
    "\t# returning the best solution\n",
    "\treturn alpha_wolf.position"
   ]
  },
  {
   "cell_type": "code",
   "execution_count": 19,
   "metadata": {},
   "outputs": [
    {
     "name": "stdout",
     "output_type": "stream",
     "text": [
      "Iter = 10 best fitness = 0.000 Best position = ['0.000486', '0.000036', '0.000536']\n",
      "Iter = 20 best fitness = 0.000 Best position = ['0.000001', '-0.000000', '-0.000000']\n",
      "Iter = 30 best fitness = 0.000 Best position = ['0.000000', '-0.000000', '-0.000000']\n",
      "Iter = 40 best fitness = 0.000 Best position = ['0.000000', '0.000000', '-0.000000']\n",
      "Iter = 50 best fitness = 0.000 Best position = ['0.000000', '0.000000', '-0.000000']\n",
      "Iter = 60 best fitness = 0.000 Best position = ['0.000000', '0.000000', '-0.000000']\n",
      "Iter = 70 best fitness = 0.000 Best position = ['0.000000', '0.000000', '-0.000000']\n",
      "Iter = 80 best fitness = 0.000 Best position = ['0.000000', '0.000000', '-0.000000']\n",
      "Iter = 90 best fitness = 0.000 Best position = ['0.000000', '0.000000', '-0.000000']\n",
      "\n",
      "Best solution found:\n",
      "['0.000000', '0.000000', '-0.000000']\n",
      "fitness of best solution = 0.000000\n"
     ]
    }
   ],
   "source": [
    "dim = 3\n",
    "fitness = fitness_sphere\n",
    "num_particles = 50\n",
    "max_iter = 100\n",
    "\n",
    "best_position = gwo(fitness, max_iter, num_particles, dim, -10.0, 10.0)\n",
    "\n",
    "print(\"\\nBest solution found:\")\n",
    "print([\"%.6f\"%best_position[k] for k in range(dim)])\n",
    "err = fitness(best_position)\n",
    "print(\"fitness of best solution = %.6f\" % err)"
   ]
  },
  {
   "cell_type": "code",
   "execution_count": null,
   "metadata": {},
   "outputs": [],
   "source": []
  }
 ],
 "metadata": {
  "kernelspec": {
   "display_name": "Python 3.9.7 ('base')",
   "language": "python",
   "name": "python3"
  },
  "language_info": {
   "codemirror_mode": {
    "name": "ipython",
    "version": 3
   },
   "file_extension": ".py",
   "mimetype": "text/x-python",
   "name": "python",
   "nbconvert_exporter": "python",
   "pygments_lexer": "ipython3",
   "version": "3.9.7"
  },
  "orig_nbformat": 4,
  "vscode": {
   "interpreter": {
    "hash": "9674b7022b93cca1b6c1717095ec01e06dd50606edb8cf5e8886c8b33be5c306"
   }
  }
 },
 "nbformat": 4,
 "nbformat_minor": 2
}
