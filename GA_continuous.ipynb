{
 "cells": [
  {
   "cell_type": "markdown",
   "metadata": {},
   "source": [
    "GENETIC ALGORITHM FOR CONTINUOUS OPTIMIZATION"
   ]
  },
  {
   "cell_type": "markdown",
   "metadata": {},
   "source": [
    "Aim: To write a python code to implement genetic algorithm for continuous optimization to minimize or maximize an objective function. "
   ]
  },
  {
   "cell_type": "code",
   "execution_count": 1,
   "metadata": {},
   "outputs": [],
   "source": [
    "from numpy.random import randint\n",
    "from numpy.random import rand"
   ]
  },
  {
   "cell_type": "code",
   "execution_count": 9,
   "metadata": {},
   "outputs": [],
   "source": [
    "# objective function\n",
    "def objective(x):\n",
    "\treturn x[0]**2.0 + x[1]**2.0"
   ]
  },
  {
   "cell_type": "code",
   "execution_count": 2,
   "metadata": {},
   "outputs": [],
   "source": [
    "# decode bitstring to numbers\n",
    "def decode(bounds, n_bits, bitstring):\n",
    "\tdecoded = list()\n",
    "\tlargest = 2**n_bits\n",
    "\tfor i in range(len(bounds)):\n",
    "\t\t# extract the substring\n",
    "\t\tstart, end = i * n_bits, (i * n_bits)+n_bits\n",
    "\t\tsubstring = bitstring[start:end]\n",
    "\t\t# convert bitstring to a string of chars\n",
    "\t\tchars = ''.join([str(s) for s in substring])\n",
    "\t\t# convert string to integer\n",
    "\t\tinteger = int(chars, 2)\n",
    "\t\t# scale integer to desired range\n",
    "\t\tvalue = bounds[i][0] + (integer/largest) * (bounds[i][1] - bounds[i][0])\n",
    "\t\t# store\n",
    "\t\tdecoded.append(value)\n",
    "\treturn decoded"
   ]
  },
  {
   "cell_type": "code",
   "execution_count": 3,
   "metadata": {},
   "outputs": [],
   "source": [
    "# tournament selection\n",
    "def selection(pop, scores, k=3):\n",
    "\t# first random selection\n",
    "\tselection_ix = randint(len(pop))\n",
    "\tfor ix in randint(0, len(pop), k-1):\n",
    "\t\t# check if better (e.g. perform a tournament)\n",
    "\t\tif scores[ix] < scores[selection_ix]:\n",
    "\t\t\tselection_ix = ix\n",
    "\treturn pop[selection_ix]"
   ]
  },
  {
   "cell_type": "code",
   "execution_count": 4,
   "metadata": {},
   "outputs": [],
   "source": [
    "# crossover two parents to create two children\n",
    "def crossover(p1, p2, r_cross):\n",
    "\t# children are copies of parents by default\n",
    "\tc1, c2 = p1.copy(), p2.copy()\n",
    "\t# check for recombination\n",
    "\tif rand() < r_cross:\n",
    "\t\t# select crossover point that is not on the end of the string\n",
    "\t\tpt = randint(1, len(p1)-2)\n",
    "\t\t# perform crossover\n",
    "\t\tc1 = p1[:pt] + p2[pt:]\n",
    "\t\tc2 = p2[:pt] + p1[pt:]\n",
    "\treturn [c1, c2]"
   ]
  },
  {
   "cell_type": "code",
   "execution_count": 5,
   "metadata": {},
   "outputs": [],
   "source": [
    "# mutation operator\n",
    "def mutation(bitstring, r_mut):\n",
    "\tfor i in range(len(bitstring)):\n",
    "\t\t# check for a mutation\n",
    "\t\tif rand() < r_mut:\n",
    "\t\t\t# flip the bit\n",
    "\t\t\tbitstring[i] = 1 - bitstring[i]"
   ]
  },
  {
   "cell_type": "code",
   "execution_count": 7,
   "metadata": {},
   "outputs": [],
   "source": [
    "# genetic algorithm\n",
    "def genetic_algorithm(objective, bounds, n_bits, n_iter, n_pop, r_cross, r_mut):\n",
    "\t# initial population of random bitstring\n",
    "\tpop = [randint(0, 2, n_bits*len(bounds)).tolist() for _ in range(n_pop)]\n",
    "\t# keep track of best solution\n",
    "\tbest, best_eval = 0, objective(decode(bounds, n_bits, pop[0]))\n",
    "\t# enumerate generations\n",
    "\tfor gen in range(n_iter):\n",
    "\t\t# decode population\n",
    "\t\tdecoded = [decode(bounds, n_bits, p) for p in pop]\n",
    "\t\t# evaluate all candidates in the population\n",
    "\t\tscores = [objective(d) for d in decoded]\n",
    "\t\t# check for new best solution\n",
    "\t\tfor i in range(n_pop):\n",
    "\t\t\tif scores[i] < best_eval:\n",
    "\t\t\t\tbest, best_eval = pop[i], scores[i]\n",
    "\t\t\t\tprint(\">iteration %d, new best f(%s) = %f\" % (gen,  decoded[i], scores[i]))\n",
    "\t\t# select parents\n",
    "\t\tselected = [selection(pop, scores) for _ in range(n_pop)]\n",
    "\t\t# create the next generation\n",
    "\t\tchildren = list()\n",
    "\t\tfor i in range(0, n_pop, 2):\n",
    "\t\t\t# get selected parents in pairs\n",
    "\t\t\tp1, p2 = selected[i], selected[i+1]\n",
    "\t\t\t# crossover and mutation\n",
    "\t\t\tfor c in crossover(p1, p2, r_cross):\n",
    "\t\t\t\t# mutation\n",
    "\t\t\t\tmutation(c, r_mut)\n",
    "\t\t\t\t# store for next generation\n",
    "\t\t\t\tchildren.append(c)\n",
    "\t\t# replace population\n",
    "\t\tpop = children\n",
    "\treturn [best, best_eval]"
   ]
  },
  {
   "cell_type": "code",
   "execution_count": 12,
   "metadata": {},
   "outputs": [
    {
     "name": "stdout",
     "output_type": "stream",
     "text": [
      "Starting genetic algorithm\n",
      "\n",
      ">iteration 0, new best f([-2.047271728515625, -1.97540283203125]) = 8.093538\n",
      ">iteration 0, new best f([0.15594482421875, -1.57745361328125]) = 2.512679\n",
      ">iteration 0, new best f([-0.55755615234375, -1.076812744140625]) = 1.470395\n",
      ">iteration 0, new best f([-0.089263916015625, 0.421295166015625]) = 0.185458\n",
      ">iteration 1, new best f([-0.089263916015625, 0.108795166015625]) = 0.019804\n",
      ">iteration 4, new best f([-0.0140380859375, 0.016632080078125]) = 0.000474\n",
      ">iteration 7, new best f([-0.0189208984375, 0.00213623046875]) = 0.000363\n",
      ">iteration 8, new best f([-0.0128173828125, 0.000457763671875]) = 0.000164\n",
      ">iteration 9, new best f([0.009307861328125, 0.006103515625]) = 0.000124\n",
      ">iteration 11, new best f([-0.00396728515625, 0.0018310546875]) = 0.000019\n",
      ">iteration 12, new best f([-0.00396728515625, 0.000457763671875]) = 0.000016\n",
      ">iteration 15, new best f([-0.0030517578125, 0.001983642578125]) = 0.000013\n",
      ">iteration 16, new best f([-0.00030517578125, 0.001373291015625]) = 0.000002\n",
      ">iteration 17, new best f([-0.000152587890625, 0.001373291015625]) = 0.000002\n",
      ">iteration 19, new best f([-0.001068115234375, 0.000457763671875]) = 0.000001\n",
      ">iteration 19, new best f([-0.00030517578125, 0.00030517578125]) = 0.000000\n",
      ">iteration 24, new best f([-0.000152587890625, 0.00030517578125]) = 0.000000\n",
      ">iteration 30, new best f([-0.000152587890625, 0.000152587890625]) = 0.000000\n",
      ">iteration 39, new best f([-0.000152587890625, 0.0]) = 0.000000\n",
      "\n",
      "Genetic algorithm completed\n",
      "\n",
      "Best solution: [-0.000152587890625, 0.0]\n",
      "Fitness score of the best solution: 0.00000\n"
     ]
    }
   ],
   "source": [
    "# define range for input\n",
    "bounds = [[-5.0, 5.0], [-5.0, 5.0]]\n",
    "# define the total iterations\n",
    "n_iter = 100\n",
    "# bits per variable\n",
    "n_bits = 16\n",
    "# define the population size\n",
    "n_pop = 100\n",
    "# crossover rate\n",
    "r_cross = 0.9\n",
    "# mutation rate\n",
    "r_mut = 1.0 / (float(n_bits) * len(bounds))\n",
    "# perform the genetic algorithm search\n",
    "print(f'Starting genetic algorithm\\n')\n",
    "best, score = genetic_algorithm(objective, bounds, n_bits, n_iter, n_pop, r_cross, r_mut)\n",
    "decoded = decode(bounds, n_bits, best)\n",
    "print(f'\\nGenetic algorithm completed\\n')\n",
    "print(f'Best solution: {decoded}')\n",
    "print(f'Fitness score of the best solution: {score:.5f}')"
   ]
  },
  {
   "cell_type": "code",
   "execution_count": null,
   "metadata": {},
   "outputs": [],
   "source": []
  }
 ],
 "metadata": {
  "kernelspec": {
   "display_name": "Python 3.9.7 ('base')",
   "language": "python",
   "name": "python3"
  },
  "language_info": {
   "codemirror_mode": {
    "name": "ipython",
    "version": 3
   },
   "file_extension": ".py",
   "mimetype": "text/x-python",
   "name": "python",
   "nbconvert_exporter": "python",
   "pygments_lexer": "ipython3",
   "version": "3.9.7"
  },
  "orig_nbformat": 4,
  "vscode": {
   "interpreter": {
    "hash": "9674b7022b93cca1b6c1717095ec01e06dd50606edb8cf5e8886c8b33be5c306"
   }
  }
 },
 "nbformat": 4,
 "nbformat_minor": 2
}
