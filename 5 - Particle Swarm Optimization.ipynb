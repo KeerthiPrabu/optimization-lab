{
 "cells": [
  {
   "cell_type": "markdown",
   "metadata": {},
   "source": [
    "# Particle Swarm Optimization"
   ]
  },
  {
   "cell_type": "markdown",
   "metadata": {},
   "source": [
    "**Aim:** To write a python code to implement particle swarm optimization (PSO) algorithm to minimize the objective function"
   ]
  },
  {
   "cell_type": "code",
   "execution_count": 1,
   "metadata": {},
   "outputs": [],
   "source": [
    "import numpy as np\n",
    "\n",
    "class Particle:\n",
    "    def __init__(self, fitness, dim, minx, maxx, seed):\n",
    "        np.random.seed(seed)\n",
    "\n",
    "        # initialize position and velocity of the particle with random values\n",
    "        self.pos = (maxx - minx) *np.random.rand(dim) + minx\n",
    "        self.vel = (maxx - minx) *np.random.rand(dim) + minx\n",
    "        \n",
    "        # compute fitness of particle\n",
    "        self.fitness = fitness(self.pos) # curr fitness\n",
    "        \n",
    "        # initialize best position and fitness of this particle\n",
    "        self.best_pos = np.copy(self.pos)\n",
    "        self.best_fitness = self.fitness # best fitness\n",
    "\n",
    "def pso(fitness, max_iter, n, dim, minx, maxx, w, c1, c2):\n",
    "    \n",
    "    # create n random particles\n",
    "    swarm = [Particle(fitness, dim, minx, maxx, i) for i in range(n)]\n",
    "\n",
    "    # compute the value of best_position and best_fitness in swarm\n",
    "    best_particle = min(swarm,key=lambda x: x.fitness)\n",
    "    swarm_best_pos = np.copy(best_particle.pos)\n",
    "    swarm_best_fitness  = best_particle.fitness\n",
    "\n",
    "    # main loop of pso\n",
    "    for iter in range(max_iter):\n",
    "        if iter % 10 == 0:\n",
    "            print(f\"{iter} > best fitness = {swarm_best_fitness:.4e} Best position: {swarm_best_pos}\")\n",
    "\n",
    "        for particle in swarm:\n",
    "        \n",
    "            # compute new velocity of curr particle\n",
    "            r1,r2 = np.random.rand(2) # randomizations\n",
    "            particle.vel = (\n",
    "                (w * particle.vel) +\n",
    "                (c1 * r1 * (particle.best_pos - particle.pos)) +\n",
    "                (c2 * r2 * (swarm_best_pos - particle.pos))\n",
    "            )\n",
    "                                \n",
    "            # if velocity is not in [minx, max] then clip it\n",
    "            particle.vel = np.clip(particle.vel,minx,maxx)\n",
    "\n",
    "            # compute new position using new velocity\n",
    "            particle.pos += particle.vel\n",
    "\n",
    "            # compute fitness of new position\n",
    "            particle.fitness = fitness(particle.pos)\n",
    "\n",
    "            # is new position a new best for the particle?\n",
    "            if particle.fitness < particle.best_fitness:\n",
    "                particle.best_fitness = particle.fitness\n",
    "                particle.best_pos = np.copy(particle.pos)\n",
    "\n",
    "            # is new position a new best overall?\n",
    "            if particle.fitness < swarm_best_fitness:\n",
    "                swarm_best_fitness = particle.fitness\n",
    "                swarm_best_pos = np.copy(particle.pos)\n",
    "    \n",
    "    print(\"\\nBest solution found:\")\n",
    "    print(swarm_best_pos)\n",
    "    print(f\"fitness of best solution = {swarm_best_fitness:.4e}\")\n",
    "\n",
    "    return swarm_best_pos"
   ]
  },
  {
   "cell_type": "code",
   "execution_count": 2,
   "metadata": {},
   "outputs": [],
   "source": [
    "np.set_printoptions(precision=6,suppress=True)        \n",
    "\n",
    "# hyper parameters and setup\n",
    "w = 0.729 # inertia\n",
    "c1 = 1.49445 # cognitive (particle)\n",
    "c2 = 1.49445 # social (swarm)\n",
    "\n",
    "dim = 3\n",
    "num_particles = 200\n",
    "max_iter = 100"
   ]
  },
  {
   "cell_type": "markdown",
   "metadata": {},
   "source": [
    "## PSO for Rastrigin Function"
   ]
  },
  {
   "cell_type": "code",
   "execution_count": 3,
   "metadata": {},
   "outputs": [
    {
     "name": "stdout",
     "output_type": "stream",
     "text": [
      "0 > best fitness = 1.6931e+01 Best position: [ 0.013363 -0.638651  0.015651]\n",
      "10 > best fitness = 2.9540e+00 Best position: [ 0.039644  0.925805 -0.060589]\n",
      "20 > best fitness = 1.0030e+00 Best position: [0.002078 0.98952  0.002577]\n",
      "30 > best fitness = 9.9898e-01 Best position: [0.003034 0.993502 0.002991]\n",
      "40 > best fitness = 2.2703e-01 Best position: [0.019585 0.021458 0.017373]\n",
      "50 > best fitness = 1.8548e-03 Best position: [ 0.002215 -0.000924 -0.001895]\n",
      "60 > best fitness = 2.6249e-04 Best position: [ 0.000806 -0.00033  -0.000751]\n",
      "70 > best fitness = 6.4089e-06 Best position: [ 0.000149 -0.000085 -0.000055]\n",
      "80 > best fitness = 4.6027e-07 Best position: [ 0.00002   0.000039 -0.00002 ]\n",
      "90 > best fitness = 9.0596e-08 Best position: [ 0.000004  0.000011 -0.000018]\n",
      "\n",
      "Best solution found:\n",
      "[-0.000002 -0.000004 -0.000003]\n",
      "fitness of best solution = 5.6553e-09\n"
     ]
    }
   ],
   "source": [
    "def fitness_rastrigin(x):\n",
    "    x = np.array(x)\n",
    "    return 10*x.shape[0] + np.sum(x**2 - 10 * np.cos(2*np.pi*x))\n",
    "\n",
    "best_position = pso(fitness_rastrigin, max_iter, num_particles, dim, -10.0, 10.0, w,c1,c2)"
   ]
  },
  {
   "cell_type": "markdown",
   "metadata": {},
   "source": [
    "## PSO for Sphere Function"
   ]
  },
  {
   "cell_type": "code",
   "execution_count": 4,
   "metadata": {},
   "outputs": [
    {
     "name": "stdout",
     "output_type": "stream",
     "text": [
      "0 > best fitness = 4.0830e-01 Best position: [ 0.013363 -0.638651  0.015651]\n",
      "10 > best fitness = 1.1150e-02 Best position: [ 0.083723  0.034064 -0.054586]\n",
      "20 > best fitness = 1.0710e-04 Best position: [ 0.000179  0.009989 -0.002699]\n",
      "30 > best fitness = 1.3853e-05 Best position: [-0.003501 -0.000276  0.001233]\n",
      "40 > best fitness = 1.4855e-06 Best position: [-0.000111  0.000444 -0.00113 ]\n",
      "50 > best fitness = 1.1132e-07 Best position: [ 0.000019 -0.000162  0.000291]\n",
      "60 > best fitness = 5.8618e-09 Best position: [0.000012 0.000072 0.000023]\n",
      "70 > best fitness = 3.1204e-10 Best position: [-0.000004  0.000016 -0.000006]\n",
      "80 > best fitness = 5.1872e-11 Best position: [ 0.        0.000003 -0.000007]\n",
      "90 > best fitness = 8.8321e-12 Best position: [0.       0.000003 0.000002]\n",
      "\n",
      "Best solution found:\n",
      "[ 0.000001  0.       -0.      ]\n",
      "fitness of best solution = 7.8366e-13\n"
     ]
    }
   ],
   "source": [
    "def fitness_sphere(x):\n",
    "    x = np.array(x)\n",
    "    return np.sum(x**2)\n",
    "\n",
    "best_position = pso(fitness_sphere, max_iter, num_particles, dim, -10.0, 10.0, w,c1,c2)"
   ]
  }
 ],
 "metadata": {
  "kernelspec": {
   "display_name": "Python 3.10.4 ('ml')",
   "language": "python",
   "name": "python3"
  },
  "language_info": {
   "codemirror_mode": {
    "name": "ipython",
    "version": 3
   },
   "file_extension": ".py",
   "mimetype": "text/x-python",
   "name": "python",
   "nbconvert_exporter": "python",
   "pygments_lexer": "ipython3",
   "version": "3.10.4"
  },
  "orig_nbformat": 4,
  "vscode": {
   "interpreter": {
    "hash": "4fd501de100fc151db62ff361c8a5d71a9c082bee3f35079a5b6db60799211dc"
   }
  }
 },
 "nbformat": 4,
 "nbformat_minor": 2
}
