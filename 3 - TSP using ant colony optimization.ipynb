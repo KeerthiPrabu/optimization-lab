{
 "cells": [
  {
   "cell_type": "code",
   "execution_count": 22,
   "metadata": {},
   "outputs": [],
   "source": [
    "def setUpCanvas(root):\n",
    "    root.title(\"THE TRAVELING SALESMAN PROBLEM by (your name here).\")\n",
    "    canvas = Canvas(root, width  = root.winfo_screenwidth(), height = root.winfo_screenheight(), bg = 'black')\n",
    "    canvas.pack(expand = YES, fill = BOTH)\n",
    "    return canvas"
   ]
  },
  {
   "cell_type": "code",
   "execution_count": 23,
   "metadata": {},
   "outputs": [],
   "source": [
    "def script(x, y, msg = '', kolor = 'WHITE'):\n",
    "    canvas.create_text(x, y, text = msg, fill = kolor,  font = ('Helvetica', 10, 'bold'))"
   ]
  },
  {
   "cell_type": "code",
   "execution_count": 24,
   "metadata": {},
   "outputs": [],
   "source": [
    "def plot(city):\n",
    "    x = city[1]+5; y = city[2]+5\n",
    "    if city[0] == -1:\n",
    "        kolor = 'WHITE'\n",
    "    else: kolor = 'YELLOW'\n",
    "    canvas.create_rectangle(x-2, y-2, x+2, y+2, width = 1, fill = kolor)"
   ]
  },
  {
   "cell_type": "code",
   "execution_count": 25,
   "metadata": {},
   "outputs": [],
   "source": [
    "def line(city1, city2, kolor = 'RED'):\n",
    "    canvas.create_line(city1[1]+5, city1[2]+5, city2[1]+5, city2[2]+5, width = 1, fill = kolor)"
   ]
  },
  {
   "cell_type": "code",
   "execution_count": 26,
   "metadata": {},
   "outputs": [],
   "source": [
    "def displayDataInConsole(AlgorithmResults, baseCity, city):\n",
    "    print('===<Traveling Salesman Path Statistics>===')\n",
    "    print ('   algorithm         path length ')\n",
    "    for element in AlgorithmResults:\n",
    "           print ('---%-20s'%element[0], int(element[2]))\n",
    "    city.sort()\n",
    "    baseCity.sort()\n",
    "    if city == baseCity:\n",
    "        print(\"---Data verified as unchanged.\")\n",
    "    else:\n",
    "        print ('ERROR: City data has been corrupted!')\n",
    "    print('   Run time =', round(clock()-START_TIME, 2), ' seconds.')"
   ]
  },
  {
   "cell_type": "code",
   "execution_count": 27,
   "metadata": {},
   "outputs": [],
   "source": [
    "def printCity(city):\n",
    "    count = 0\n",
    "    for (id,x,y) in city:\n",
    "        print( '%3d: id =%2d, (%5d, %5d)'%(count,id, int(x), int(y)))\n",
    "        count += 1"
   ]
  },
  {
   "cell_type": "code",
   "execution_count": 7,
   "metadata": {},
   "outputs": [],
   "source": [
    "def displayPathOnScreen(city, statistics):\n",
    "#=---Normalize data\n",
    "    (minX, maxX, minY, maxY, meanX, meanY, medianX, medianY, size, m, b) = statistics\n",
    "    canvas.delete('all')\n",
    "    cityNorm, (p,q,r,s) = normalizeCityDataToFitScreen(city[:], statistics)\n",
    "\n",
    "#---Plot points and lines\n",
    "    cityNorm.append(cityNorm[0])\n",
    "    plot(cityNorm[0])\n",
    "    for n in range(1, len(cityNorm)):\n",
    "        plot(cityNorm[n])\n",
    "        line(cityNorm[n], cityNorm[n-1])\n",
    "    script(650,  20, 'path length = ' + str(pathLength(city)))\n",
    "    canvas.create_rectangle(530,10, 770, 30, width = 1, outline = 'WHITE')\n",
    "    canvas.update()\n",
    "    root.mainloop() # Required for graphics."
   ]
  },
  {
   "cell_type": "code",
   "execution_count": 8,
   "metadata": {},
   "outputs": [],
   "source": [
    "def normalizeCityDataToFitScreen(city, statistics):\n",
    "    \"\"\" Coordinates are all assumed to be non-negative.\"\"\"\n",
    "    (minX, maxX, minY, maxY, meanX, meanY, medianX, medianY, size, m, b) = statistics\n",
    "    newCity = []\n",
    "\n",
    "#---Step 1a. Shift city points to the x- and y-axes.\n",
    "    for (id, x,y) in city:\n",
    "        newCity.append ( (id, x-minX, y-minY))\n",
    "\n",
    "#---Step 1b. Shift line-of-best-fit to the x- and y-axes.\n",
    "    (x0,y0) = (maxX-minX, m*maxX+b - minY) # = x-intercept of line-of-best-fit.\n",
    "    (x1,y1) = (minX-minX, m*minX+b - minY) # = y-intercept of line-of-best-fit.\n",
    "\n",
    "\n",
    "#---Step 1c. Shift max-values to x- and y-axes.\n",
    "    maxX = maxX-minX\n",
    "    maxY = maxY-minY\n",
    "\n",
    "#---Step 2a. # Re-scale city points to fit the screen.\n",
    "    cityNorm = []\n",
    "    for (id, x, y) in newCity:\n",
    "        cityNorm.append ((id, x*SCREEN_WIDTH/maxX, y*SCREEN_HEIGHT/maxY))\n",
    "\n",
    "#---Step 2b. # Re-scale the x-axis and y-axis intercepts for the line-of-best-fit.\n",
    "    (x0,y0) = x0/maxX*SCREEN_WIDTH, y0/maxY*SCREEN_HEIGHT # a point on the x-axis\n",
    "    (x1,y1) = x1/maxX*SCREEN_WIDTH, y1/maxY*SCREEN_HEIGHT # a point on the y-axis\n",
    "\n",
    "    return cityNorm, (x1,y1,x0,y0) # = the adjusted city xy-values and 2 points on the line-of-best-fit."
   ]
  },
  {
   "cell_type": "code",
   "execution_count": 9,
   "metadata": {},
   "outputs": [],
   "source": [
    "def readDataFromFileAndAppendId(fileName):\n",
    "    file1 = open(fileName, 'r')\n",
    "    fileLength = int(file1.readline()) # removes heading\n",
    "    city = []\n",
    "    for elt in range(fileLength):\n",
    "       x, y = file1.readline().split()\n",
    "       city.append( [0, float(x), float(y)] ) # A place for an id (0, here) is appended.\n",
    "    file1.close()\n",
    "    return city"
   ]
  },
  {
   "cell_type": "code",
   "execution_count": 10,
   "metadata": {},
   "outputs": [],
   "source": [
    "def getFileLength(fileName):\n",
    "    file1 = open(fileName, 'r')\n",
    "    fileLength = int(file1.readline()) # removes heading\n",
    "    return fileLength"
   ]
  },
  {
   "cell_type": "code",
   "execution_count": 11,
   "metadata": {},
   "outputs": [],
   "source": [
    "def pathLength(city):\n",
    "    totalPath = 0\n",
    "    for n in range(1, len(city)):\n",
    "        totalPath += dist( city[n-1], city[n] )\n",
    "    totalPath += dist( city[n], city[0] )\n",
    "    return int(totalPath)"
   ]
  },
  {
   "cell_type": "code",
   "execution_count": 12,
   "metadata": {},
   "outputs": [],
   "source": [
    "def dataStatistics(city):\n",
    "    xValues = []\n",
    "    yValues = []\n",
    "    size = len(city)\n",
    "    for (id, x,y) in city:\n",
    "        xValues.append(x)\n",
    "        yValues.append(y)\n",
    "    minX = min(xValues)\n",
    "    maxX = max(xValues)\n",
    "    minY = min(yValues)\n",
    "    maxY = max(yValues)\n",
    "\n",
    "    assert (minX >= 0 or maxX >= 0 or minY >= 0 or maxY >= 0)\n",
    "\n",
    "    meanX = sum(xValues)/size\n",
    "    meanY = sum(yValues)/size\n",
    "    medianX = city[len(city)//2][0]\n",
    "    medianY = city[len(city)//2][1]\n",
    "\n",
    "#---Derive the line of best fit: y = mx+b\n",
    "    xyDiff   = 0\n",
    "    xDiffSqr = 0\n",
    "    for (id, x,y) in city:\n",
    "        xyDiff  += (meanX - x)*(meanY - y)\n",
    "        xDiffSqr+= (meanX - x)**2\n",
    "\n",
    "    m = xyDiff/xDiffSqr\n",
    "    b = meanY - m*meanX\n",
    "\n",
    "    return minX, maxX, minY, maxY, meanX, meanY, medianX, medianY, size, m, b"
   ]
  },
  {
   "cell_type": "code",
   "execution_count": 13,
   "metadata": {},
   "outputs": [],
   "source": [
    "def dist(cityA, cityB):\n",
    "    return hypot(cityA[1]-cityB[1], cityA[2] - cityB[2])"
   ]
  },
  {
   "cell_type": "code",
   "execution_count": 14,
   "metadata": {},
   "outputs": [],
   "source": [
    "def chunks(l, n):\n",
    "    n = max(1, n)\n",
    "    l.pop()\n",
    "    return [l[i:i + n] for i in range(0, len(l), n)]"
   ]
  },
  {
   "cell_type": "code",
   "execution_count": 15,
   "metadata": {},
   "outputs": [],
   "source": [
    "def printToFile(distances, myfile):\n",
    "    for item in distances:\n",
    "        myfile.write(\"%s\\n\" % item)\n",
    "        myfile.write(\"\\n\")"
   ]
  },
  {
   "cell_type": "code",
   "execution_count": 16,
   "metadata": {},
   "outputs": [],
   "source": [
    "def myAlgorithm(distances,city,fileLength):\n",
    "    for x in range(len(city)):\n",
    "        for y in range(len(city)):\n",
    "            if x+y+1<len(city):\n",
    "                distances.append(dist(city[x],city[x+y+1]))\n",
    "            elif city[x] !=city[(x+y)%(fileLength-1)]:\n",
    "                distances.append(dist(city[x],city[(x+y)%(fileLength-1)]))"
   ]
  },
  {
   "cell_type": "code",
   "execution_count": 17,
   "metadata": {},
   "outputs": [],
   "source": [
    "def ySort(city):\n",
    "    for item in city:\n",
    "        item[1],item[2]=item[2],item[1]\n",
    "    city.sort()\n",
    "    for item in city:\n",
    "        item[1],item[2]=item[2],item[1]"
   ]
  },
  {
   "cell_type": "code",
   "execution_count": 18,
   "metadata": {},
   "outputs": [],
   "source": [
    "def xSort(city):\n",
    "    city.sort()"
   ]
  },
  {
   "cell_type": "code",
   "execution_count": 20,
   "metadata": {},
   "outputs": [],
   "source": [
    "from tkinter      import Tk, Canvas, YES, BOTH\n",
    "from operator     import itemgetter\n",
    "from itertools    import permutations\n",
    "from copy         import deepcopy\n",
    "from random       import shuffle\n",
    "from time         import perf_counter\n",
    "from math         import hypot\n",
    "from operator     import itemgetter\n",
    "from collections import OrderedDict\n",
    "root           = Tk()\n",
    "canvas         = setUpCanvas(root)\n",
    "START_TIME     = perf_counter()\n",
    "SCREEN_WIDTH   = root.winfo_screenwidth() //5*5 - 15 # adjusted to exclude task bars on my PC.\n",
    "SCREEN_HEIGHT  = root.winfo_screenheight()//5*5 - 90 # adjusted to exclude task bars on my PC.\n",
    "fileName       = \"tsp0038.txt\" # My file name will be different from yours"
   ]
  },
  {
   "cell_type": "code",
   "execution_count": 21,
   "metadata": {},
   "outputs": [
    {
     "name": "stdout",
     "output_type": "stream",
     "text": [
      "0\n",
      "1\n",
      "2\n",
      "3\n",
      "4\n",
      "5\n",
      "6\n",
      "7\n",
      "8\n",
      "9\n",
      "10\n",
      "11\n",
      "12\n",
      "13\n",
      "14\n",
      "15\n",
      "16\n",
      "17\n",
      "18\n",
      "19\n",
      "20\n",
      "21\n",
      "22\n",
      "23\n",
      "24\n",
      "25\n",
      "26\n",
      "27\n",
      "28\n",
      "29\n",
      "30\n",
      "31\n",
      "32\n",
      "33\n",
      "34\n",
      "35\n",
      "36\n"
     ]
    }
   ],
   "source": [
    "if __name__ == '__main__':\n",
    "    #---0. Read in data, append an id to every pair, and store results in a variable called \"city\".\n",
    "\n",
    "    fileLength = getFileLength(fileName)\n",
    "    city  = readDataFromFileAndAppendId(fileName)\n",
    "\n",
    "#---1. Extract statistics.\n",
    "\n",
    "    statistics = (minX, maxX, minY, maxY, meanX, meanY, medianX, medianY, size, m, b) = dataStatistics(city)\n",
    "\n",
    "#---2. Create a random path.\n",
    "\n",
    "    shuffle(city)\n",
    "\n",
    "#---3. Sort on y-coordinate and connect sequentially by y.\n",
    "\n",
    "    ySort(city)\n",
    "\n",
    "#---4. Sort on x-coordinate and connect sequentially by x.\n",
    "\n",
    "    xSort(city)\n",
    "\n",
    "#---5. Greedy Algorithm\n",
    "    z=[]\n",
    "    for x in range(len(city)-1):\n",
    "        print(x)\n",
    "        if x==0:\n",
    "            z.append(city[x])\n",
    "        temp=dist(city[x],city[x+1])\n",
    "        for y in range(len(city)-1):\n",
    "            if dist(city[x],city[y+1])<temp:\n",
    "                z.append(city[y+1])\n",
    "                break\n",
    "    city=z\n",
    "\n",
    "#---6. Display results.\n",
    "    displayPathOnScreen(city, statistics)"
   ]
  },
  {
   "cell_type": "code",
   "execution_count": null,
   "metadata": {},
   "outputs": [],
   "source": []
  }
 ],
 "metadata": {
  "kernelspec": {
   "display_name": "Python 3.9.7 ('base')",
   "language": "python",
   "name": "python3"
  },
  "language_info": {
   "codemirror_mode": {
    "name": "ipython",
    "version": 3
   },
   "file_extension": ".py",
   "mimetype": "text/x-python",
   "name": "python",
   "nbconvert_exporter": "python",
   "pygments_lexer": "ipython3",
   "version": "3.9.7"
  },
  "orig_nbformat": 4,
  "vscode": {
   "interpreter": {
    "hash": "9674b7022b93cca1b6c1717095ec01e06dd50606edb8cf5e8886c8b33be5c306"
   }
  }
 },
 "nbformat": 4,
 "nbformat_minor": 2
}
