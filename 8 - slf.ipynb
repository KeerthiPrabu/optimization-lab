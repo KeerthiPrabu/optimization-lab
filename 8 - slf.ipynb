{
 "cells": [
  {
   "cell_type": "code",
   "execution_count": 13,
   "metadata": {},
   "outputs": [],
   "source": [
    "import numpy as np\n",
    "import matplotlib.pyplot as plt\n",
    "import seaborn as sns\n",
    "sns.set_style(\"darkgrid\")\n",
    "sns.set_context(\"notebook\")"
   ]
  },
  {
   "cell_type": "code",
   "execution_count": 14,
   "metadata": {},
   "outputs": [],
   "source": [
    "def opt_func(value):\n",
    "    return np.sqrt((value ** 2).sum())"
   ]
  },
  {
   "cell_type": "code",
   "execution_count": 15,
   "metadata": {},
   "outputs": [],
   "source": [
    "def gen_frogs(frogs, dimension, sigma, mu):\n",
    "    return sigma * (np.random.randn(frogs, dimension)) + mu"
   ]
  },
  {
   "cell_type": "code",
   "execution_count": 16,
   "metadata": {},
   "outputs": [],
   "source": [
    "def sort_frogs(frogs, mplx_no, opt_func):\n",
    "    # Find fitness of each frog\n",
    "    fitness = np.array(list(map(opt_func, frogs)))\n",
    "    # Sort the indices in decending order by fitness\n",
    "    sorted_fitness = np.argsort(fitness)\n",
    "    # Empty holder for memeplexes\n",
    "    memeplexes = np.zeros((mplx_no, int(frogs.shape[0]/mplx_no)))\n",
    "    # Sort into memeplexes\n",
    "    for j in range(memeplexes.shape[1]):\n",
    "        for i in range(mplx_no):\n",
    "            memeplexes[i, j] = sorted_fitness[i+(mplx_no*j)]\n",
    "    return memeplexes"
   ]
  },
  {
   "cell_type": "code",
   "execution_count": 17,
   "metadata": {},
   "outputs": [],
   "source": [
    "def local_search(frogs, memeplex, opt_func, sigma, mu):\n",
    "    # Select worst, best, greatest frogs\n",
    "    frog_w = frogs[int(memeplex[-1])]\n",
    "    frog_b = frogs[int(memeplex[0])]\n",
    "    frog_g = frogs[0]\n",
    "    # Move worst wrt best frog\n",
    "    frog_w_new = frog_w + (np.random.rand() * (frog_b - frog_w))\n",
    "    # If change not better, move worst wrt greatest frog\n",
    "    if opt_func(frog_w_new) > opt_func(frog_w):\n",
    "        frog_w_new = frog_w + (np.random.rand() * (frog_g - frog_w))\n",
    "    # If change not better, random new worst frog\n",
    "    if opt_func(frog_w_new) > opt_func(frog_w):\n",
    "        frog_w_new = gen_frogs(1, frogs.shape[1], sigma, mu)[0]\n",
    "    # Replace worst frog\n",
    "    frogs[int(memeplex[-1])] = frog_w_new\n",
    "    return frogs"
   ]
  },
  {
   "cell_type": "code",
   "execution_count": 18,
   "metadata": {},
   "outputs": [],
   "source": [
    "def shuffle_memeplexes(frogs, memeplexes):\n",
    "    # Flatten the array\n",
    "    temp = memeplexes.flatten()\n",
    "    #Shuffle the array\n",
    "    np.random.shuffle(temp)\n",
    "    # Reshape\n",
    "    temp = temp.reshape((memeplexes.shape[0], memeplexes.shape[1]))\n",
    "    return temp"
   ]
  },
  {
   "cell_type": "code",
   "execution_count": 19,
   "metadata": {},
   "outputs": [],
   "source": [
    "def sfla(opt_func, frogs=30, dimension=2, sigma=1, mu=0, mplx_no=5, mplx_iters=10, solun_iters=50):\n",
    "    # Generate frogs around the solution\n",
    "    frogs = gen_frogs(frogs, dimension, sigma, mu)\n",
    "    # Arrange frogs and sort into memeplexes\n",
    "    memeplexes = sort_frogs(frogs, mplx_no, opt_func)\n",
    "    # Best solution as greatest frog\n",
    "    best_solun = frogs[int(memeplexes[0, 0])]\n",
    "    # For the number of iterations\n",
    "    for i in range(solun_iters):\n",
    "        # Shuffle memeplexes\n",
    "        memeplexes = shuffle_memeplexes(frogs, memeplexes)\n",
    "        # For each memeplex\n",
    "        for mplx_idx, memeplex in enumerate(memeplexes):\n",
    "            # For number of memeplex iterations\n",
    "            for j in range(mplx_iters):\n",
    "                # Perform local search\n",
    "                frogs = local_search(frogs, memeplex, opt_func, sigma, mu)\n",
    "            # Rearrange memeplexes\n",
    "            memeplexes = sort_frogs(frogs, mplx_no, opt_func)\n",
    "            # Check and select new best frog as the greatest frog\n",
    "            new_best_solun = frogs[int(memeplexes[0, 0])]\n",
    "            if opt_func(new_best_solun) < opt_func(best_solun):\n",
    "                best_solun = new_best_solun\n",
    "    return best_solun, frogs, memeplexes.astype(int)"
   ]
  },
  {
   "cell_type": "code",
   "execution_count": 20,
   "metadata": {},
   "outputs": [],
   "source": [
    "def main():\n",
    "    # Run algorithm\n",
    "    solun, frogs, memeplexes = sfla(opt_func, 100, 2, 1, 0, 5, 25, 50)\n",
    "    print(\"Optimal Solution (closest to zero): {}\".format(solun))\n",
    "    # Place memeplexes\n",
    "    for idx, memeplex in enumerate(memeplexes):\n",
    "        plt.scatter(frogs[memeplex, 0], frogs[memeplex, 1], marker='x', label=\"memeplex {}\".format(idx))\n",
    "    plt.scatter(solun[0], solun[1], marker='o', label=\"Optimal Solution\")\n",
    "    plt.scatter(0, 0, marker='*', label='Actual Solution')\n",
    "    # Plot properties\n",
    "    plt.legend()\n",
    "    plt.xlabel(\"x-axis\")\n",
    "    plt.ylabel(\"y-axis\")\n",
    "    plt.title(\"Shuffled Frogs\")\n",
    "    # Show plot\n",
    "    plt.show()"
   ]
  },
  {
   "cell_type": "code",
   "execution_count": 21,
   "metadata": {},
   "outputs": [
    {
     "name": "stdout",
     "output_type": "stream",
     "text": [
      "Optimal Solution (closest to zero): [-0.11822164 -0.13900913]\n"
     ]
    },
    {
     "data": {
      "image/png": "[encoded data removed]",
      "text/plain": [
       "<Figure size 432x288 with 1 Axes>"
      ]
     },
     "metadata": {},
     "output_type": "display_data"
    }
   ],
   "source": [
    "if __name__ == '__main__':\n",
    "    main()"
   ]
  },
  {
   "cell_type": "code",
   "execution_count": null,
   "metadata": {},
   "outputs": [],
   "source": []
  }
 ],
 "metadata": {
  "kernelspec": {
   "display_name": "Python 3.9.7 ('base')",
   "language": "python",
   "name": "python3"
  },
  "language_info": {
   "codemirror_mode": {
    "name": "ipython",
    "version": 3
   },
   "file_extension": ".py",
   "mimetype": "text/x-python",
   "name": "python",
   "nbconvert_exporter": "python",
   "pygments_lexer": "ipython3",
   "version": "3.9.7"
  },
  "orig_nbformat": 4,
  "vscode": {
   "interpreter": {
    "hash": "9674b7022b93cca1b6c1717095ec01e06dd50606edb8cf5e8886c8b33be5c306"
   }
  }
 },
 "nbformat": 4,
 "nbformat_minor": 2
}
